{
 "cells": [
  {
   "cell_type": "markdown",
   "id": "1da0dd00-edfd-4d07-8776-9006f510d67e",
   "metadata": {},
   "source": [
    "파일 다운로드 형식\n",
    "csv, excel , json , txt, open api(프로그램과 프로그램이 서로 주고받는 방식, 인증키, 정의된 문서, 규칙, (xml, json) 포맷), 웹 크롤링(html tag규칙, css 규칙 알고있어야된다)\n",
    "\n",
    "양이적은것들 excel로 저장\n",
    "양이많은것들 csv로 저장"
   ]
  },
  {
   "cell_type": "code",
   "execution_count": 1,
   "id": "dd4159f1-dd90-4342-8e98-e4e9631fb15b",
   "metadata": {},
   "outputs": [],
   "source": [
    "import pandas as pd"
   ]
  },
  {
   "cell_type": "code",
   "execution_count": 6,
   "id": "5c2bce0c-7426-4c18-a025-2b64d2abbd00",
   "metadata": {},
   "outputs": [],
   "source": [
    "# bicycle.csv 파일을 읽어 들인 후 조회\n",
    "# 데이터프레임 변수 df1\n",
    "file_path = './data/bicycle.csv'\n",
    "df1 = pd.read_csv(file_path, encoding = 'euc-kr')"
   ]
  },
  {
   "cell_type": "code",
   "execution_count": 7,
   "id": "529bec56-dd21-402b-818f-8234810ee135",
   "metadata": {},
   "outputs": [
    {
     "data": {
      "text/html": [
       "<div>\n",
       "<style scoped>\n",
       "    .dataframe tbody tr th:only-of-type {\n",
       "        vertical-align: middle;\n",
       "    }\n",
       "\n",
       "    .dataframe tbody tr th {\n",
       "        vertical-align: top;\n",
       "    }\n",
       "\n",
       "    .dataframe thead th {\n",
       "        text-align: right;\n",
       "    }\n",
       "</style>\n",
       "<table border=\"1\" class=\"dataframe\">\n",
       "  <thead>\n",
       "    <tr style=\"text-align: right;\">\n",
       "      <th></th>\n",
       "      <th>자전거번호</th>\n",
       "      <th>대여일시</th>\n",
       "      <th>대여소번호</th>\n",
       "      <th>대여소명</th>\n",
       "      <th>대여거치대</th>\n",
       "      <th>반납일시</th>\n",
       "      <th>반납대여소번호</th>\n",
       "      <th>반납대여소명</th>\n",
       "      <th>반납거치대</th>\n",
       "      <th>이용시간</th>\n",
       "      <th>이용거리</th>\n",
       "    </tr>\n",
       "  </thead>\n",
       "  <tbody>\n",
       "    <tr>\n",
       "      <th>0</th>\n",
       "      <td>SPB-23220</td>\n",
       "      <td>2019-11-01 8:48</td>\n",
       "      <td>646</td>\n",
       "      <td>장한평역 1번출구 (국민은행앞)</td>\n",
       "      <td>3.0</td>\n",
       "      <td>2019-11-01 9:01</td>\n",
       "      <td>3</td>\n",
       "      <td>중랑센터</td>\n",
       "      <td>7.0</td>\n",
       "      <td>12.0</td>\n",
       "      <td>1100.0</td>\n",
       "    </tr>\n",
       "    <tr>\n",
       "      <th>1</th>\n",
       "      <td>SPB-16216</td>\n",
       "      <td>2019-11-04 8:38</td>\n",
       "      <td>646</td>\n",
       "      <td>장한평역 1번출구 (국민은행앞)</td>\n",
       "      <td>2.0</td>\n",
       "      <td>2019-11-04 8:56</td>\n",
       "      <td>3</td>\n",
       "      <td>중랑센터</td>\n",
       "      <td>2.0</td>\n",
       "      <td>7.0</td>\n",
       "      <td>1420.0</td>\n",
       "    </tr>\n",
       "    <tr>\n",
       "      <th>2</th>\n",
       "      <td>SPB-21097</td>\n",
       "      <td>2019-11-04 8:46</td>\n",
       "      <td>646</td>\n",
       "      <td>장한평역 1번출구 (국민은행앞)</td>\n",
       "      <td>1.0</td>\n",
       "      <td>2019-11-04 8:57</td>\n",
       "      <td>3</td>\n",
       "      <td>중랑센터</td>\n",
       "      <td>7.0</td>\n",
       "      <td>10.0</td>\n",
       "      <td>NaN</td>\n",
       "    </tr>\n",
       "    <tr>\n",
       "      <th>3</th>\n",
       "      <td>SPB-22292</td>\n",
       "      <td>2019-11-05 8:34</td>\n",
       "      <td>646</td>\n",
       "      <td>장한평역 1번출구 (국민은행앞)</td>\n",
       "      <td>1.0</td>\n",
       "      <td>2019-11-05 8:45</td>\n",
       "      <td>3</td>\n",
       "      <td>중랑센터</td>\n",
       "      <td>NaN</td>\n",
       "      <td>10.0</td>\n",
       "      <td>1380.0</td>\n",
       "    </tr>\n",
       "    <tr>\n",
       "      <th>4</th>\n",
       "      <td>SPB-07935</td>\n",
       "      <td>2019-11-05 12:29</td>\n",
       "      <td>512</td>\n",
       "      <td>뚝섬역 1번 출구 옆</td>\n",
       "      <td>11.0</td>\n",
       "      <td>2019-11-05 12:39</td>\n",
       "      <td>3</td>\n",
       "      <td>중랑센터</td>\n",
       "      <td>7.0</td>\n",
       "      <td>10.0</td>\n",
       "      <td>1650.0</td>\n",
       "    </tr>\n",
       "    <tr>\n",
       "      <th>...</th>\n",
       "      <td>...</td>\n",
       "      <td>...</td>\n",
       "      <td>...</td>\n",
       "      <td>...</td>\n",
       "      <td>...</td>\n",
       "      <td>...</td>\n",
       "      <td>...</td>\n",
       "      <td>...</td>\n",
       "      <td>...</td>\n",
       "      <td>...</td>\n",
       "      <td>...</td>\n",
       "    </tr>\n",
       "    <tr>\n",
       "      <th>415</th>\n",
       "      <td>SPB-12116</td>\n",
       "      <td>2019-11-15 4:22</td>\n",
       "      <td>112</td>\n",
       "      <td>극동방송국 앞</td>\n",
       "      <td>5.0</td>\n",
       "      <td>2019-11-15 4:33</td>\n",
       "      <td>101</td>\n",
       "      <td>(구)합정동 주민센터</td>\n",
       "      <td>1.0</td>\n",
       "      <td>11.0</td>\n",
       "      <td>2200.0</td>\n",
       "    </tr>\n",
       "    <tr>\n",
       "      <th>416</th>\n",
       "      <td>SPB-17768</td>\n",
       "      <td>2019-11-15 9:31</td>\n",
       "      <td>103</td>\n",
       "      <td>망원역 2번출구 앞</td>\n",
       "      <td>14.0</td>\n",
       "      <td>2019-11-15 9:37</td>\n",
       "      <td>101</td>\n",
       "      <td>(구)합정동 주민센터</td>\n",
       "      <td>NaN</td>\n",
       "      <td>5.0</td>\n",
       "      <td>NaN</td>\n",
       "    </tr>\n",
       "    <tr>\n",
       "      <th>417</th>\n",
       "      <td>SPB-18841</td>\n",
       "      <td>2019-11-15 20:40</td>\n",
       "      <td>113</td>\n",
       "      <td>홍대입구역 2번출구 앞</td>\n",
       "      <td>24.0</td>\n",
       "      <td>2019-11-15 20:53</td>\n",
       "      <td>101</td>\n",
       "      <td>(구)합정동 주민센터</td>\n",
       "      <td>1.0</td>\n",
       "      <td>12.0</td>\n",
       "      <td>2280.0</td>\n",
       "    </tr>\n",
       "    <tr>\n",
       "      <th>418</th>\n",
       "      <td>SPB-24467</td>\n",
       "      <td>2019-11-15 21:55</td>\n",
       "      <td>152</td>\n",
       "      <td>마포구민체육센터 앞</td>\n",
       "      <td>18.0</td>\n",
       "      <td>2019-11-15 22:05</td>\n",
       "      <td>101</td>\n",
       "      <td>(구)합정동 주민센터</td>\n",
       "      <td>1.0</td>\n",
       "      <td>10.0</td>\n",
       "      <td>1180.0</td>\n",
       "    </tr>\n",
       "    <tr>\n",
       "      <th>419</th>\n",
       "      <td>SPB-17570</td>\n",
       "      <td>2019-11-15 22:16</td>\n",
       "      <td>391</td>\n",
       "      <td>정동길입구</td>\n",
       "      <td>7.0</td>\n",
       "      <td>2019-11-15 23:04</td>\n",
       "      <td>101</td>\n",
       "      <td>(구)합정동 주민센터</td>\n",
       "      <td>5.0</td>\n",
       "      <td>48.0</td>\n",
       "      <td>8100.0</td>\n",
       "    </tr>\n",
       "  </tbody>\n",
       "</table>\n",
       "<p>420 rows × 11 columns</p>\n",
       "</div>"
      ],
      "text/plain": [
       "         자전거번호              대여일시  대여소번호               대여소명  대여거치대  \\\n",
       "0    SPB-23220   2019-11-01 8:48    646  장한평역 1번출구 (국민은행앞)    3.0   \n",
       "1    SPB-16216   2019-11-04 8:38    646  장한평역 1번출구 (국민은행앞)    2.0   \n",
       "2    SPB-21097   2019-11-04 8:46    646  장한평역 1번출구 (국민은행앞)    1.0   \n",
       "3    SPB-22292   2019-11-05 8:34    646  장한평역 1번출구 (국민은행앞)    1.0   \n",
       "4    SPB-07935  2019-11-05 12:29    512        뚝섬역 1번 출구 옆   11.0   \n",
       "..         ...               ...    ...                ...    ...   \n",
       "415  SPB-12116   2019-11-15 4:22    112            극동방송국 앞    5.0   \n",
       "416  SPB-17768   2019-11-15 9:31    103         망원역 2번출구 앞   14.0   \n",
       "417  SPB-18841  2019-11-15 20:40    113       홍대입구역 2번출구 앞   24.0   \n",
       "418  SPB-24467  2019-11-15 21:55    152         마포구민체육센터 앞   18.0   \n",
       "419  SPB-17570  2019-11-15 22:16    391              정동길입구    7.0   \n",
       "\n",
       "                 반납일시  반납대여소번호       반납대여소명  반납거치대  이용시간    이용거리  \n",
       "0     2019-11-01 9:01        3         중랑센터    7.0  12.0  1100.0  \n",
       "1     2019-11-04 8:56        3         중랑센터    2.0   7.0  1420.0  \n",
       "2     2019-11-04 8:57        3         중랑센터    7.0  10.0     NaN  \n",
       "3     2019-11-05 8:45        3         중랑센터    NaN  10.0  1380.0  \n",
       "4    2019-11-05 12:39        3         중랑센터    7.0  10.0  1650.0  \n",
       "..                ...      ...          ...    ...   ...     ...  \n",
       "415   2019-11-15 4:33      101  (구)합정동 주민센터    1.0  11.0  2200.0  \n",
       "416   2019-11-15 9:37      101  (구)합정동 주민센터    NaN   5.0     NaN  \n",
       "417  2019-11-15 20:53      101  (구)합정동 주민센터    1.0  12.0  2280.0  \n",
       "418  2019-11-15 22:05      101  (구)합정동 주민센터    1.0  10.0  1180.0  \n",
       "419  2019-11-15 23:04      101  (구)합정동 주민센터    5.0  48.0  8100.0  \n",
       "\n",
       "[420 rows x 11 columns]"
      ]
     },
     "execution_count": 7,
     "metadata": {},
     "output_type": "execute_result"
    }
   ],
   "source": [
    "df1"
   ]
  },
  {
   "cell_type": "code",
   "execution_count": 9,
   "id": "b295ec65-1f08-4076-a01d-48115c7d48e8",
   "metadata": {},
   "outputs": [],
   "source": [
    "# bicycle.xlsx 파일 읽어들인 후 조회\n",
    "# 변수명 df2\n",
    "file_path2='./data/bicycle.xlsx'\n",
    "df2 = pd.read_excel(file_path2)"
   ]
  },
  {
   "cell_type": "code",
   "execution_count": 10,
   "id": "15b546bb-f88f-4452-8710-a24158ea7641",
   "metadata": {},
   "outputs": [
    {
     "data": {
      "text/html": [
       "<div>\n",
       "<style scoped>\n",
       "    .dataframe tbody tr th:only-of-type {\n",
       "        vertical-align: middle;\n",
       "    }\n",
       "\n",
       "    .dataframe tbody tr th {\n",
       "        vertical-align: top;\n",
       "    }\n",
       "\n",
       "    .dataframe thead th {\n",
       "        text-align: right;\n",
       "    }\n",
       "</style>\n",
       "<table border=\"1\" class=\"dataframe\">\n",
       "  <thead>\n",
       "    <tr style=\"text-align: right;\">\n",
       "      <th></th>\n",
       "      <th>자전거번호</th>\n",
       "      <th>대여일시</th>\n",
       "      <th>대여소번호</th>\n",
       "      <th>대여소명</th>\n",
       "      <th>대여거치대</th>\n",
       "      <th>반납일시</th>\n",
       "      <th>반납대여소번호</th>\n",
       "      <th>반납대여소명</th>\n",
       "      <th>반납거치대</th>\n",
       "      <th>이용시간</th>\n",
       "      <th>이용거리</th>\n",
       "    </tr>\n",
       "  </thead>\n",
       "  <tbody>\n",
       "    <tr>\n",
       "      <th>0</th>\n",
       "      <td>SPB-23220</td>\n",
       "      <td>2019-11-01 08:48:31</td>\n",
       "      <td>646</td>\n",
       "      <td>장한평역 1번출구 (국민은행앞)</td>\n",
       "      <td>3.0</td>\n",
       "      <td>2019-11-01 09:01:24</td>\n",
       "      <td>3</td>\n",
       "      <td>중랑센터</td>\n",
       "      <td>7.0</td>\n",
       "      <td>12.0</td>\n",
       "      <td>1100.0</td>\n",
       "    </tr>\n",
       "    <tr>\n",
       "      <th>1</th>\n",
       "      <td>SPB-16216</td>\n",
       "      <td>2019-11-04 08:38:39</td>\n",
       "      <td>646</td>\n",
       "      <td>장한평역 1번출구 (국민은행앞)</td>\n",
       "      <td>2.0</td>\n",
       "      <td>2019-11-04 08:56:33</td>\n",
       "      <td>3</td>\n",
       "      <td>중랑센터</td>\n",
       "      <td>2.0</td>\n",
       "      <td>7.0</td>\n",
       "      <td>1420.0</td>\n",
       "    </tr>\n",
       "    <tr>\n",
       "      <th>2</th>\n",
       "      <td>SPB-21097</td>\n",
       "      <td>2019-11-04 08:46:37</td>\n",
       "      <td>646</td>\n",
       "      <td>장한평역 1번출구 (국민은행앞)</td>\n",
       "      <td>1.0</td>\n",
       "      <td>2019-11-04 08:57:35</td>\n",
       "      <td>3</td>\n",
       "      <td>중랑센터</td>\n",
       "      <td>7.0</td>\n",
       "      <td>10.0</td>\n",
       "      <td>NaN</td>\n",
       "    </tr>\n",
       "    <tr>\n",
       "      <th>3</th>\n",
       "      <td>SPB-22292</td>\n",
       "      <td>2019-11-05 08:34:59</td>\n",
       "      <td>646</td>\n",
       "      <td>장한평역 1번출구 (국민은행앞)</td>\n",
       "      <td>1.0</td>\n",
       "      <td>2019-11-05 08:45:45</td>\n",
       "      <td>3</td>\n",
       "      <td>중랑센터</td>\n",
       "      <td>NaN</td>\n",
       "      <td>10.0</td>\n",
       "      <td>1380.0</td>\n",
       "    </tr>\n",
       "    <tr>\n",
       "      <th>4</th>\n",
       "      <td>SPB-07935</td>\n",
       "      <td>2019-11-05 12:29:00</td>\n",
       "      <td>512</td>\n",
       "      <td>뚝섬역 1번 출구 옆</td>\n",
       "      <td>11.0</td>\n",
       "      <td>2019-11-05 12:39:37</td>\n",
       "      <td>3</td>\n",
       "      <td>중랑센터</td>\n",
       "      <td>7.0</td>\n",
       "      <td>10.0</td>\n",
       "      <td>1650.0</td>\n",
       "    </tr>\n",
       "    <tr>\n",
       "      <th>...</th>\n",
       "      <td>...</td>\n",
       "      <td>...</td>\n",
       "      <td>...</td>\n",
       "      <td>...</td>\n",
       "      <td>...</td>\n",
       "      <td>...</td>\n",
       "      <td>...</td>\n",
       "      <td>...</td>\n",
       "      <td>...</td>\n",
       "      <td>...</td>\n",
       "      <td>...</td>\n",
       "    </tr>\n",
       "    <tr>\n",
       "      <th>415</th>\n",
       "      <td>SPB-12116</td>\n",
       "      <td>2019-11-15 04:22:13</td>\n",
       "      <td>112</td>\n",
       "      <td>극동방송국 앞</td>\n",
       "      <td>5.0</td>\n",
       "      <td>2019-11-15 04:33:40</td>\n",
       "      <td>101</td>\n",
       "      <td>(구)합정동 주민센터</td>\n",
       "      <td>1.0</td>\n",
       "      <td>11.0</td>\n",
       "      <td>2200.0</td>\n",
       "    </tr>\n",
       "    <tr>\n",
       "      <th>416</th>\n",
       "      <td>SPB-17768</td>\n",
       "      <td>2019-11-15 09:31:48</td>\n",
       "      <td>103</td>\n",
       "      <td>망원역 2번출구 앞</td>\n",
       "      <td>14.0</td>\n",
       "      <td>2019-11-15 09:37:56</td>\n",
       "      <td>101</td>\n",
       "      <td>(구)합정동 주민센터</td>\n",
       "      <td>NaN</td>\n",
       "      <td>5.0</td>\n",
       "      <td>NaN</td>\n",
       "    </tr>\n",
       "    <tr>\n",
       "      <th>417</th>\n",
       "      <td>SPB-18841</td>\n",
       "      <td>2019-11-15 20:40:40</td>\n",
       "      <td>113</td>\n",
       "      <td>홍대입구역 2번출구 앞</td>\n",
       "      <td>24.0</td>\n",
       "      <td>2019-11-15 20:53:46</td>\n",
       "      <td>101</td>\n",
       "      <td>(구)합정동 주민센터</td>\n",
       "      <td>1.0</td>\n",
       "      <td>12.0</td>\n",
       "      <td>2280.0</td>\n",
       "    </tr>\n",
       "    <tr>\n",
       "      <th>418</th>\n",
       "      <td>SPB-24467</td>\n",
       "      <td>2019-11-15 21:55:13</td>\n",
       "      <td>152</td>\n",
       "      <td>마포구민체육센터 앞</td>\n",
       "      <td>18.0</td>\n",
       "      <td>2019-11-15 22:05:40</td>\n",
       "      <td>101</td>\n",
       "      <td>(구)합정동 주민센터</td>\n",
       "      <td>1.0</td>\n",
       "      <td>10.0</td>\n",
       "      <td>1180.0</td>\n",
       "    </tr>\n",
       "    <tr>\n",
       "      <th>419</th>\n",
       "      <td>SPB-17570</td>\n",
       "      <td>2019-11-15 22:16:08</td>\n",
       "      <td>391</td>\n",
       "      <td>정동길입구</td>\n",
       "      <td>7.0</td>\n",
       "      <td>2019-11-15 23:04:53</td>\n",
       "      <td>101</td>\n",
       "      <td>(구)합정동 주민센터</td>\n",
       "      <td>5.0</td>\n",
       "      <td>48.0</td>\n",
       "      <td>8100.0</td>\n",
       "    </tr>\n",
       "  </tbody>\n",
       "</table>\n",
       "<p>420 rows × 11 columns</p>\n",
       "</div>"
      ],
      "text/plain": [
       "         자전거번호                대여일시  대여소번호               대여소명  대여거치대  \\\n",
       "0    SPB-23220 2019-11-01 08:48:31    646  장한평역 1번출구 (국민은행앞)    3.0   \n",
       "1    SPB-16216 2019-11-04 08:38:39    646  장한평역 1번출구 (국민은행앞)    2.0   \n",
       "2    SPB-21097 2019-11-04 08:46:37    646  장한평역 1번출구 (국민은행앞)    1.0   \n",
       "3    SPB-22292 2019-11-05 08:34:59    646  장한평역 1번출구 (국민은행앞)    1.0   \n",
       "4    SPB-07935 2019-11-05 12:29:00    512        뚝섬역 1번 출구 옆   11.0   \n",
       "..         ...                 ...    ...                ...    ...   \n",
       "415  SPB-12116 2019-11-15 04:22:13    112            극동방송국 앞    5.0   \n",
       "416  SPB-17768 2019-11-15 09:31:48    103         망원역 2번출구 앞   14.0   \n",
       "417  SPB-18841 2019-11-15 20:40:40    113       홍대입구역 2번출구 앞   24.0   \n",
       "418  SPB-24467 2019-11-15 21:55:13    152         마포구민체육센터 앞   18.0   \n",
       "419  SPB-17570 2019-11-15 22:16:08    391              정동길입구    7.0   \n",
       "\n",
       "                   반납일시  반납대여소번호       반납대여소명  반납거치대  이용시간    이용거리  \n",
       "0   2019-11-01 09:01:24        3         중랑센터    7.0  12.0  1100.0  \n",
       "1   2019-11-04 08:56:33        3         중랑센터    2.0   7.0  1420.0  \n",
       "2   2019-11-04 08:57:35        3         중랑센터    7.0  10.0     NaN  \n",
       "3   2019-11-05 08:45:45        3         중랑센터    NaN  10.0  1380.0  \n",
       "4   2019-11-05 12:39:37        3         중랑센터    7.0  10.0  1650.0  \n",
       "..                  ...      ...          ...    ...   ...     ...  \n",
       "415 2019-11-15 04:33:40      101  (구)합정동 주민센터    1.0  11.0  2200.0  \n",
       "416 2019-11-15 09:37:56      101  (구)합정동 주민센터    NaN   5.0     NaN  \n",
       "417 2019-11-15 20:53:46      101  (구)합정동 주민센터    1.0  12.0  2280.0  \n",
       "418 2019-11-15 22:05:40      101  (구)합정동 주민센터    1.0  10.0  1180.0  \n",
       "419 2019-11-15 23:04:53      101  (구)합정동 주민센터    5.0  48.0  8100.0  \n",
       "\n",
       "[420 rows x 11 columns]"
      ]
     },
     "execution_count": 10,
     "metadata": {},
     "output_type": "execute_result"
    }
   ],
   "source": [
    "df2"
   ]
  },
  {
   "cell_type": "code",
   "execution_count": 11,
   "id": "71ca74ec-0fbd-4075-8f17-d2d968bee7fe",
   "metadata": {},
   "outputs": [],
   "source": [
    "file_path3='./data/read.json'\n",
    "df3 = pd.read_json(file_path3)"
   ]
  },
  {
   "cell_type": "code",
   "execution_count": 12,
   "id": "cbec3e41-cb37-42b7-8c6b-4a13365ec14f",
   "metadata": {},
   "outputs": [
    {
     "data": {
      "text/html": [
       "<div>\n",
       "<style scoped>\n",
       "    .dataframe tbody tr th:only-of-type {\n",
       "        vertical-align: middle;\n",
       "    }\n",
       "\n",
       "    .dataframe tbody tr th {\n",
       "        vertical-align: top;\n",
       "    }\n",
       "\n",
       "    .dataframe thead th {\n",
       "        text-align: right;\n",
       "    }\n",
       "</style>\n",
       "<table border=\"1\" class=\"dataframe\">\n",
       "  <thead>\n",
       "    <tr style=\"text-align: right;\">\n",
       "      <th></th>\n",
       "      <th>1.FirstName</th>\n",
       "      <th>2.LastName</th>\n",
       "      <th>3.Age</th>\n",
       "      <th>4.University</th>\n",
       "      <th>5.Courses</th>\n",
       "    </tr>\n",
       "  </thead>\n",
       "  <tbody>\n",
       "    <tr>\n",
       "      <th>0</th>\n",
       "      <td>Gildong</td>\n",
       "      <td>Hong</td>\n",
       "      <td>20</td>\n",
       "      <td>Gachon University</td>\n",
       "      <td>{'Classes': ['Probability', 'Generalized Linea...</td>\n",
       "    </tr>\n",
       "    <tr>\n",
       "      <th>1</th>\n",
       "      <td>Gildong</td>\n",
       "      <td>Hong</td>\n",
       "      <td>20</td>\n",
       "      <td>Gachon University</td>\n",
       "      <td>{'Classes': ['Data Structure', 'Programming', ...</td>\n",
       "    </tr>\n",
       "  </tbody>\n",
       "</table>\n",
       "</div>"
      ],
      "text/plain": [
       "  1.FirstName 2.LastName  3.Age       4.University  \\\n",
       "0     Gildong       Hong     20  Gachon University   \n",
       "1     Gildong       Hong     20  Gachon University   \n",
       "\n",
       "                                           5.Courses  \n",
       "0  {'Classes': ['Probability', 'Generalized Linea...  \n",
       "1  {'Classes': ['Data Structure', 'Programming', ...  "
      ]
     },
     "execution_count": 12,
     "metadata": {},
     "output_type": "execute_result"
    }
   ],
   "source": [
    "df3"
   ]
  },
  {
   "cell_type": "code",
   "execution_count": 15,
   "id": "13be3713-c84c-4cc4-aaec-200ed31f68a7",
   "metadata": {},
   "outputs": [],
   "source": [
    "# df1 저장하기\n",
    "# 저장위치 : data2 폴더\n",
    "# 저장파일명 : sample_data.csv\n",
    "save_path = './data2/sample_data.csv'\n",
    "df1.to_csv(save_path, encoding = 'utf-8-sig')"
   ]
  },
  {
   "cell_type": "code",
   "execution_count": 16,
   "id": "0a687393-a7a5-4b80-b771-6fb44d090fa8",
   "metadata": {},
   "outputs": [],
   "source": [
    "# 읽어들인후는 데이터프레임이라서 아무거나 다 저장가능\n",
    "save_path2 = './data2/sample_data.xlsx'\n",
    "df2.to_excel(save_path2)"
   ]
  },
  {
   "cell_type": "code",
   "execution_count": 17,
   "id": "9230727a-0d37-4598-be22-516e8b8a9a33",
   "metadata": {},
   "outputs": [],
   "source": [
    "df3.to_json('./data2/read.json')"
   ]
  },
  {
   "cell_type": "markdown",
   "id": "e7e1fcf8-63ff-4a79-bea0-898fc8005014",
   "metadata": {},
   "source": [
    "### 데이터수집 : OpenAPI 방식"
   ]
  },
  {
   "cell_type": "code",
   "execution_count": 22,
   "id": "0f9c4732-bae0-467a-96b3-cb02e55ebe31",
   "metadata": {},
   "outputs": [
    {
     "name": "stdout",
     "output_type": "stream",
     "text": [
      "b'<?xml version=\"1.0\" encoding=\"UTF-8\" standalone=\"yes\"?><response><header><resultCode>00</resultCode><resultMsg>NORMAL SERVICE.</resultMsg></header><body><items><item><addr>\\xec\\x84\\x9c\\xec\\x9a\\xb8\\xed\\x8a\\xb9\\xeb\\xb3\\x84\\xec\\x8b\\x9c \\xec\\xa4\\x91\\xeb\\x9e\\x91\\xea\\xb5\\xac \\xeb\\xb4\\x89\\xed\\x99\\x94\\xec\\x82\\xb0\\xeb\\xa1\\x9c 215 1\\xec\\xb8\\xb5 (\\xec\\x8b\\xa0\\xeb\\x82\\xb4\\xeb\\x8f\\x99)</addr><clCd>81</clCd><clCdNm>\\xec\\x95\\xbd\\xea\\xb5\\xad</clCdNm><distance>.5478450769582605437588497466708942455</distance><emdongNm>\\xec\\x8b\\xa0\\xeb\\x82\\xb4\\xeb\\x8f\\x99</emdongNm><estbDd>20001222</estbDd><postNo>02054</postNo><sgguCd>110019</sgguCd><sgguCdNm>\\xec\\xa4\\x91\\xeb\\x9e\\x91\\xea\\xb5\\xac</sgguCdNm><sidoCd>110000</sidoCd><sidoCdNm>\\xec\\x84\\x9c\\xec\\x9a\\xb8</sidoCdNm><telno>02-3422-3097</telno><XPos>127.0965492</XPos><YPos>37.6076585</YPos><yadmNm>\\xec\\x98\\xa8\\xeb\\x88\\x84\\xeb\\xa6\\xac\\xea\\xb1\\xb4\\xea\\xb0\\x95\\xec\\x95\\xbd\\xea\\xb5\\xad</yadmNm><ykiho>JDQ4MTg4MSM1MSMkMSMkNCMkMDMkMzgxOTYxIzExIyQxIyQ3IyQ4MiQyNjEyMjIjODEjJDEjJDYjJDgz</ykiho></item><item><addr>\\xec\\x84\\x9c\\xec\\x9a\\xb8\\xed\\x8a\\xb9\\xeb\\xb3\\x84\\xec\\x8b\\x9c \\xec\\xa4\\x91\\xeb\\x9e\\x91\\xea\\xb5\\xac \\xec\\x8b\\xa0\\xeb\\x82\\xb4\\xeb\\xa1\\x9c 211 212\\xed\\x98\\xb8 (\\xec\\x8b\\xa0\\xeb\\x82\\xb4\\xeb\\x8f\\x99, \\xea\\xb8\\x88\\xea\\xb0\\x95\\xeb\\xa6\\xac\\xeb\\xb9\\x99\\xec\\x8a\\xa4\\xed\\x85\\x94)</addr><clCd>81</clCd><clCdNm>\\xec\\x95\\xbd\\xea\\xb5\\xad</clCdNm><distance>1035.1855820788666820304486290002772234</distance><emdongNm>\\xec\\x8b\\xa0\\xeb\\x82\\xb4\\xeb\\x8f\\x99</emdongNm><estbDd>20140630</estbDd><postNo>02024</postNo><sgguCd>110019</sgguCd><sgguCdNm>\\xec\\xa4\\x91\\xeb\\x9e\\x91\\xea\\xb5\\xac</sgguCdNm><sidoCd>110000</sidoCd><sidoCdNm>\\xec\\x84\\x9c\\xec\\x9a\\xb8</sidoCdNm><telno>02-6743-4262</telno><XPos>127.0926492</XPos><YPos>37.6164445</YPos><yadmNm>\\xec\\x86\\xa1\\xec\\x9d\\xb4\\xec\\x98\\xa8\\xeb\\x88\\x84\\xeb\\xa6\\xac\\xec\\x95\\xbd\\xea\\xb5\\xad</yadmNm><ykiho>JDQ4MTg4MSM1MSMkMSMkNCMkMDMkMzgxOTYxIzIxIyQxIyQ5IyQ4OSQyNjE0ODEjNjEjJDEjJDQjJDgz</ykiho></item></items><numOfRows>10</numOfRows><pageNo>1</pageNo><totalCount>2</totalCount></body></response>'\n"
     ]
    }
   ],
   "source": [
    "# # Python3 샘플 코드 #\n",
    "\n",
    "\n",
    "# import requests\n",
    "\n",
    "# url = 'http://apis.data.go.kr/B551182/pharmacyInfoService/getParmacyBasisList'\n",
    "# params ={'serviceKey' : 'kEgeydo0Xr%2FjtBBL5Q0E45EYOPewPr3ltbTdEJixKVEd%2B1U%2FXjVWaSEwzcbcYIUuCrUo4%2BkR9%2BYXa2NOBUFIpQ%3D%3D', \n",
    "#          'pageNo' : '1', 'numOfRows' : '10', 'sidoCd' : '110000', 'sgguCd' : '110019', 'emdongNm' : '신내동', 'yadmNm' : '온누리건강',\n",
    "#          'xPos' : '127.0965441345503', 'yPos' : '37.60765568913871', 'radius' : '3000' }\n",
    "\n",
    "# url = \"http://apis.data.go.kr/B551182/pharmacyInfoService/getParmacyBasisList?pageNo=1&numOfRows=10&sidoCd=110000&sgguCd=110019&emdongNm=신내동&yadmNm=온누리&xPos=127.0965441345503&yPos=37.60765568913871&radius=3000&ServiceKey=kEgeydo0Xr%2FjtBBL5Q0E45EYOPewPr3ltbTdEJixKVEd%2B1U%2FXjVWaSEwzcbcYIUuCrUo4%2BkR9%2BYXa2NOBUFIpQ%3D%3D\"\n",
    "\n",
    "# # response = requests.get(url, params=params)\n",
    "# response = requests.get(url)\n",
    "# print(response.content)"
   ]
  },
  {
   "cell_type": "code",
   "execution_count": 89,
   "id": "b1aaa263-f8b0-4748-95d4-75a5e24d3d15",
   "metadata": {},
   "outputs": [
    {
     "name": "stdout",
     "output_type": "stream",
     "text": [
      "b'<?xml version=\"1.0\" encoding=\"UTF-8\" standalone=\"yes\"?><response><header><resultCode>00</resultCode><resultMsg>NORMAL SERVICE.</resultMsg></header><body><items><item><addr>\\xec\\x84\\x9c\\xec\\x9a\\xb8\\xed\\x8a\\xb9\\xeb\\xb3\\x84\\xec\\x8b\\x9c \\xec\\xa4\\x91\\xeb\\x9e\\x91\\xea\\xb5\\xac \\xeb\\xb4\\x89\\xed\\x99\\x94\\xec\\x82\\xb0\\xeb\\xa1\\x9c 215 1\\xec\\xb8\\xb5 (\\xec\\x8b\\xa0\\xeb\\x82\\xb4\\xeb\\x8f\\x99)</addr><clCd>81</clCd><clCdNm>\\xec\\x95\\xbd\\xea\\xb5\\xad</clCdNm><distance>.5478450769582605437588497466708942455</distance><emdongNm>\\xec\\x8b\\xa0\\xeb\\x82\\xb4\\xeb\\x8f\\x99</emdongNm><estbDd>20001222</estbDd><postNo>02054</postNo><sgguCd>110019</sgguCd><sgguCdNm>\\xec\\xa4\\x91\\xeb\\x9e\\x91\\xea\\xb5\\xac</sgguCdNm><sidoCd>110000</sidoCd><sidoCdNm>\\xec\\x84\\x9c\\xec\\x9a\\xb8</sidoCdNm><telno>02-3422-3097</telno><XPos>127.0965492</XPos><YPos>37.6076585</YPos><yadmNm>\\xec\\x98\\xa8\\xeb\\x88\\x84\\xeb\\xa6\\xac\\xea\\xb1\\xb4\\xea\\xb0\\x95\\xec\\x95\\xbd\\xea\\xb5\\xad</yadmNm><ykiho>JDQ4MTg4MSM1MSMkMSMkNCMkMDMkMzgxOTYxIzExIyQxIyQ3IyQ4MiQyNjEyMjIjODEjJDEjJDYjJDgz</ykiho></item><item><addr>\\xec\\x84\\x9c\\xec\\x9a\\xb8\\xed\\x8a\\xb9\\xeb\\xb3\\x84\\xec\\x8b\\x9c \\xec\\xa4\\x91\\xeb\\x9e\\x91\\xea\\xb5\\xac \\xec\\x8b\\xa0\\xeb\\x82\\xb4\\xeb\\xa1\\x9c 211 212\\xed\\x98\\xb8 (\\xec\\x8b\\xa0\\xeb\\x82\\xb4\\xeb\\x8f\\x99, \\xea\\xb8\\x88\\xea\\xb0\\x95\\xeb\\xa6\\xac\\xeb\\xb9\\x99\\xec\\x8a\\xa4\\xed\\x85\\x94)</addr><clCd>81</clCd><clCdNm>\\xec\\x95\\xbd\\xea\\xb5\\xad</clCdNm><distance>1035.1855820788666820304486290002772234</distance><emdongNm>\\xec\\x8b\\xa0\\xeb\\x82\\xb4\\xeb\\x8f\\x99</emdongNm><estbDd>20140630</estbDd><postNo>02024</postNo><sgguCd>110019</sgguCd><sgguCdNm>\\xec\\xa4\\x91\\xeb\\x9e\\x91\\xea\\xb5\\xac</sgguCdNm><sidoCd>110000</sidoCd><sidoCdNm>\\xec\\x84\\x9c\\xec\\x9a\\xb8</sidoCdNm><telno>02-6743-4262</telno><XPos>127.0926492</XPos><YPos>37.6164445</YPos><yadmNm>\\xec\\x86\\xa1\\xec\\x9d\\xb4\\xec\\x98\\xa8\\xeb\\x88\\x84\\xeb\\xa6\\xac\\xec\\x95\\xbd\\xea\\xb5\\xad</yadmNm><ykiho>JDQ4MTg4MSM1MSMkMSMkNCMkMDMkMzgxOTYxIzIxIyQxIyQ5IyQ4OSQyNjE0ODEjNjEjJDEjJDQjJDgz</ykiho></item></items><numOfRows>10</numOfRows><pageNo>1</pageNo><totalCount>2</totalCount></body></response>'\n"
     ]
    }
   ],
   "source": [
    "# Python3 샘플 코드 #\n",
    "\n",
    "\n",
    "import requests\n",
    "\n",
    "apikey = 'kEgeydo0Xr%2FjtBBL5Q0E45EYOPewPr3ltbTdEJixKVEd%2B1U%2FXjVWaSEwzcbcYIUuCrUo4%2BkR9%2BYXa2NOBUFIpQ%3D%3D'\n",
    "\n",
    "pageNo = 1\n",
    "numOfRows = 10\n",
    "sidoCd = 110000\n",
    "sgguCd = 110019\n",
    "emdongNm = \"신내동\"\n",
    "yadmNm=\"온누리\"\n",
    "xPos=127.0965441345503\n",
    "yPos=37.60765568913871\n",
    "radius=3000\n",
    "api = \"\"\"http://apis.data.go.kr/B551182/pharmacyInfoService/getParmacyBasisList?pageNo={no}&numOfRows={row}&sidoCd={sido}&sgguCd={sigu}&emdongNm={dong}&yadmNm={yanm}&xPos={x}&yPos={y}&radius={r}&ServiceKey={key}\"\"\"\n",
    "\n",
    "\n",
    "url = api.format(no = pageNo,\n",
    "                 row = numOfRows,\n",
    "                 sido = sidoCd,\n",
    "                 sigu = sgguCd,\n",
    "                 dong = emdongNm,\n",
    "                 yanm = yadmNm,\n",
    "                 x = xPos, y = yPos, r = radius,\n",
    "                 key = apikey)\n",
    "\n",
    "# response = requests.get(url, params=params)\n",
    "response = requests.get(url)\n",
    "print(response.content)"
   ]
  },
  {
   "cell_type": "markdown",
   "id": "71c1c608-9a15-411e-b000-860a136d04b6",
   "metadata": {},
   "source": [
    "request 웹이라는게 있는데 \\\n",
    "웹은 서버에서 url을 이용하여 요청해서 데이터를 받는 방식 \\\n",
    "검색하는순간 요청, 요청 - 응답 (웹서버ㅎ) \\\n",
    "request 요청\n",
    "response 응답"
   ]
  },
  {
   "cell_type": "code",
   "execution_count": 90,
   "id": "b812d8b4-764b-4470-ab65-4685a043e048",
   "metadata": {},
   "outputs": [],
   "source": [
    "from bs4 import BeautifulSoup\n",
    "import requests"
   ]
  },
  {
   "cell_type": "code",
   "execution_count": 165,
   "id": "80abedd8-eb68-497d-9a53-943aa7d51a9c",
   "metadata": {},
   "outputs": [
    {
     "name": "stdout",
     "output_type": "stream",
     "text": [
      "['온누리건강약국', '송이온누리약국']\n",
      "\n",
      "['서울', '서울']\n",
      "\n",
      "['서울특별시 중랑구 봉화산로 215 1층 (신내동)', '서울특별시 중랑구 신내로 211 212호 (신내동, 금강리빙스텔)']\n",
      "\n",
      "['02-3422-3097', '02-6743-4262']\n",
      "\n"
     ]
    },
    {
     "name": "stderr",
     "output_type": "stream",
     "text": [
      "C:\\Users\\admin\\anaconda3\\lib\\site-packages\\bs4\\builder\\__init__.py:545: XMLParsedAsHTMLWarning: It looks like you're parsing an XML document using an HTML parser. If this really is an HTML document (maybe it's XHTML?), you can ignore or filter this warning. If it's XML, you should know that using an XML parser will be more reliable. To parse this document as XML, make sure you have the lxml package installed, and pass the keyword argument `features=\"xml\"` into the BeautifulSoup constructor.\n",
      "  warnings.warn(\n"
     ]
    },
    {
     "data": {
      "text/html": [
       "<div>\n",
       "<style scoped>\n",
       "    .dataframe tbody tr th:only-of-type {\n",
       "        vertical-align: middle;\n",
       "    }\n",
       "\n",
       "    .dataframe tbody tr th {\n",
       "        vertical-align: top;\n",
       "    }\n",
       "\n",
       "    .dataframe thead th {\n",
       "        text-align: right;\n",
       "    }\n",
       "</style>\n",
       "<table border=\"1\" class=\"dataframe\">\n",
       "  <thead>\n",
       "    <tr style=\"text-align: right;\">\n",
       "      <th></th>\n",
       "      <th>약국이름</th>\n",
       "      <th>시도명</th>\n",
       "      <th>주소</th>\n",
       "      <th>전화번호</th>\n",
       "    </tr>\n",
       "  </thead>\n",
       "  <tbody>\n",
       "    <tr>\n",
       "      <th>0</th>\n",
       "      <td>온누리건강약국</td>\n",
       "      <td>서울</td>\n",
       "      <td>서울특별시 중랑구 봉화산로 215 1층 (신내동)</td>\n",
       "      <td>02-3422-3097</td>\n",
       "    </tr>\n",
       "    <tr>\n",
       "      <th>1</th>\n",
       "      <td>송이온누리약국</td>\n",
       "      <td>서울</td>\n",
       "      <td>서울특별시 중랑구 신내로 211 212호 (신내동, 금강리빙스텔)</td>\n",
       "      <td>02-6743-4262</td>\n",
       "    </tr>\n",
       "  </tbody>\n",
       "</table>\n",
       "</div>"
      ],
      "text/plain": [
       "      약국이름 시도명                                    주소          전화번호\n",
       "0  온누리건강약국  서울           서울특별시 중랑구 봉화산로 215 1층 (신내동)  02-3422-3097\n",
       "1  송이온누리약국  서울  서울특별시 중랑구 신내로 211 212호 (신내동, 금강리빙스텔)  02-6743-4262"
      ]
     },
     "execution_count": 165,
     "metadata": {},
     "output_type": "execute_result"
    }
   ],
   "source": [
    "# 꺽쇠를 태그로 인지함\n",
    "re = response.text\n",
    "soup = BeautifulSoup(re, \"html.parser\")\n",
    "addr_list = soup.find_all('addr') # [0]  리스트형태니까 인덱싱가능\n",
    "telno_list = soup.find_all('telno')\n",
    "yadmnm_list = soup.find_all('yadmnm')\n",
    "sidocdnm_list = soup.find_all('sidocdnm')\n",
    "\n",
    "\n",
    "# 태그중에 텍스트만 가져와라\n",
    "addr_list[0].text\n",
    "\n",
    "\n",
    "yad_txt_list = []\n",
    "sido_txt_list = []\n",
    "addr_txt_list = []\n",
    "telno_txt_list = []\n",
    "\n",
    "for i in range(len(yadmnm_list)):\n",
    "    yad_txt_list.append(yadmnm_list[i].text)\n",
    "    sido_txt_list.append(sidocdnm_list[i].text)\n",
    "    addr_txt_list.append(addr_list[i].text)\n",
    "    telno_txt_list.append(telno_list[i].text)\n",
    "    \n",
    "print(yad_txt_list)\n",
    "print()\n",
    "print(sido_txt_list)\n",
    "print()\n",
    "print(addr_txt_list)\n",
    "print()\n",
    "print(telno_txt_list)\n",
    "print()\n",
    "\n",
    "df_temp = pd.DataFrame({'약국이름' : yad_txt_list,\n",
    "                       '시도명' : sido_txt_list,\n",
    "                       '주소' : addr_txt_list,\n",
    "                       '전화번호' : telno_txt_list})\n",
    "df_temp"
   ]
  },
  {
   "cell_type": "code",
   "execution_count": 159,
   "id": "9dd9b2b5-431a-4d6a-a38c-2e740af3de35",
   "metadata": {},
   "outputs": [
    {
     "data": {
      "text/plain": [
       "['02-3422-3097', '02-6743-4262']"
      ]
     },
     "execution_count": 159,
     "metadata": {},
     "output_type": "execute_result"
    }
   ],
   "source": [
    "yad_txt_list\n",
    "sido_txt_list\n",
    "addr_txt_list\n",
    "telno_txt_list"
   ]
  },
  {
   "cell_type": "code",
   "execution_count": 145,
   "id": "c1ed9618-5a76-4661-967f-82fa8dfbe92b",
   "metadata": {},
   "outputs": [
    {
     "data": {
      "text/plain": [
       "<?xml version=\"1.0\" encoding=\"UTF-8\" standalone=\"yes\"?><response><header><resultcode>00</resultcode><resultmsg>NORMAL SERVICE.</resultmsg></header><body><items><item><addr>서울특별시 중랑구 봉화산로 215 1층 (신내동)</addr><clcd>81</clcd><clcdnm>약국</clcdnm><distance>.5478450769582605437588497466708942455</distance><emdongnm>신내동</emdongnm><estbdd>20001222</estbdd><postno>02054</postno><sggucd>110019</sggucd><sggucdnm>중랑구</sggucdnm><sidocd>110000</sidocd><sidocdnm>서울</sidocdnm><telno>02-3422-3097</telno><xpos>127.0965492</xpos><ypos>37.6076585</ypos><yadmnm>온누리건강약국</yadmnm><ykiho>JDQ4MTg4MSM1MSMkMSMkNCMkMDMkMzgxOTYxIzExIyQxIyQ3IyQ4MiQyNjEyMjIjODEjJDEjJDYjJDgz</ykiho></item><item><addr>서울특별시 중랑구 신내로 211 212호 (신내동, 금강리빙스텔)</addr><clcd>81</clcd><clcdnm>약국</clcdnm><distance>1035.1855820788666820304486290002772234</distance><emdongnm>신내동</emdongnm><estbdd>20140630</estbdd><postno>02024</postno><sggucd>110019</sggucd><sggucdnm>중랑구</sggucdnm><sidocd>110000</sidocd><sidocdnm>서울</sidocdnm><telno>02-6743-4262</telno><xpos>127.0926492</xpos><ypos>37.6164445</ypos><yadmnm>송이온누리약국</yadmnm><ykiho>JDQ4MTg4MSM1MSMkMSMkNCMkMDMkMzgxOTYxIzIxIyQxIyQ5IyQ4OSQyNjE0ODEjNjEjJDEjJDQjJDgz</ykiho></item></items><numofrows>10</numofrows><pageno>1</pageno><totalcount>2</totalcount></body></response>"
      ]
     },
     "execution_count": 145,
     "metadata": {},
     "output_type": "execute_result"
    }
   ],
   "source": [
    "soup"
   ]
  },
  {
   "cell_type": "code",
   "execution_count": 146,
   "id": "613cb938-ebfc-4c13-a6b6-2fd1c3f14a22",
   "metadata": {},
   "outputs": [
    {
     "name": "stdout",
     "output_type": "stream",
     "text": [
      "약국주소 [ 0 ] : 서울특별시 중랑구 봉화산로 215 1층 (신내동)\n",
      "약국주소 [ 1 ] : 서울특별시 중랑구 신내로 211 212호 (신내동, 금강리빙스텔)\n"
     ]
    }
   ],
   "source": [
    "addr_txt_list = []\n",
    "for i in range(len(addr_list)):\n",
    "    print(\"약국주소 [\" , i , \"] :\",addr_list[i].text)\n",
    "    addr_txt_list.append(addr_list[i].text)"
   ]
  },
  {
   "cell_type": "code",
   "execution_count": 147,
   "id": "9d5ae787-190b-4d35-9875-5b3f520561a1",
   "metadata": {},
   "outputs": [
    {
     "data": {
      "text/plain": [
       "['서울특별시 중랑구 봉화산로 215 1층 (신내동)', '서울특별시 중랑구 신내로 211 212호 (신내동, 금강리빙스텔)']"
      ]
     },
     "execution_count": 147,
     "metadata": {},
     "output_type": "execute_result"
    }
   ],
   "source": [
    "addr_txt_list"
   ]
  },
  {
   "cell_type": "code",
   "execution_count": 148,
   "id": "fd2bbecd-038f-46a0-87dc-faabb79b9ae1",
   "metadata": {},
   "outputs": [
    {
     "name": "stdout",
     "output_type": "stream",
     "text": [
      "약국이름 [ 0 ] : 온누리건강약국\n",
      "약국이름 [ 1 ] : 송이온누리약국\n"
     ]
    }
   ],
   "source": [
    "yad_txt_list = []\n",
    "for i in range(len(yadmnm_list)):\n",
    "    print(\"약국이름 [\" , i , \"] :\",yadmnm_list[i].text)\n",
    "    yad_txt_list.append(yadmnm_list[i].text)\n",
    "    "
   ]
  },
  {
   "cell_type": "code",
   "execution_count": 149,
   "id": "62c75b06-e719-4c56-aeba-e4e3ab830157",
   "metadata": {},
   "outputs": [
    {
     "data": {
      "text/plain": [
       "['온누리건강약국', '송이온누리약국']"
      ]
     },
     "execution_count": 149,
     "metadata": {},
     "output_type": "execute_result"
    }
   ],
   "source": [
    "yad_txt_list"
   ]
  },
  {
   "cell_type": "code",
   "execution_count": 150,
   "id": "33b01c88-024b-4738-91e2-bc15381398a4",
   "metadata": {},
   "outputs": [
    {
     "name": "stdout",
     "output_type": "stream",
     "text": [
      "시도명 [ 0 ] : 서울\n",
      "시도명 [ 1 ] : 서울\n"
     ]
    }
   ],
   "source": [
    "sido_txt_list = []\n",
    "for i in range(len(sidocdnm_list)):    \n",
    "    print(\"시도명 [\" , i , \"] :\",sidocdnm_list[i].text)\n",
    "    sido_txt_list.append(sidocdnm_list[i].text)"
   ]
  },
  {
   "cell_type": "code",
   "execution_count": 151,
   "id": "9c42b028-4dfd-48e2-a166-e45acf6fe420",
   "metadata": {},
   "outputs": [
    {
     "data": {
      "text/plain": [
       "['서울', '서울']"
      ]
     },
     "execution_count": 151,
     "metadata": {},
     "output_type": "execute_result"
    }
   ],
   "source": [
    "sido_txt_list"
   ]
  },
  {
   "cell_type": "code",
   "execution_count": 152,
   "id": "ed3c8e49-1b99-4755-a4d8-17e3be48d852",
   "metadata": {},
   "outputs": [
    {
     "name": "stdout",
     "output_type": "stream",
     "text": [
      "전화번호 [ 0 ] : 02-3422-3097\n",
      "전화번호 [ 1 ] : 02-6743-4262\n"
     ]
    }
   ],
   "source": [
    "telno_txt_list = []\n",
    "for i in range(len(telno_list)):    \n",
    "    print(\"전화번호 [\" , i , \"] :\",telno_list[i].text)\n",
    "    telno_txt_list.append(telno_list[i].text)"
   ]
  },
  {
   "cell_type": "code",
   "execution_count": 153,
   "id": "9e7a4cae-6181-49aa-a12e-1887d0a47db2",
   "metadata": {},
   "outputs": [
    {
     "data": {
      "text/plain": [
       "['02-3422-3097', '02-6743-4262']"
      ]
     },
     "execution_count": 153,
     "metadata": {},
     "output_type": "execute_result"
    }
   ],
   "source": [
    "telno_txt_list"
   ]
  },
  {
   "cell_type": "code",
   "execution_count": 140,
   "id": "928986c4-f252-478e-807b-7f109804498f",
   "metadata": {},
   "outputs": [],
   "source": [
    "# 약국이름, 시도명, 주소, 전화번호에 대한 text 값만 추출하여\n",
    "# 각각의 리스트에 담기 ... 변수명은 아래 처럼 ...\n",
    "# yad_txt_list, sido_txt_list, addr_txt_list, telno_txt_list\n",
    "# for i in range(len(soup)):\n",
    "#     addr_txt_list.append(addr_list[i].text)\n",
    "#     yad_txt_list.append(yadmnm_list[i].text)\n",
    "#     sido_txt_list.append(sidocdnm_list[i].text)\n",
    "#     telno_txt_list.append(telno_list[i].text)"
   ]
  },
  {
   "cell_type": "code",
   "execution_count": 166,
   "id": "8062c090-8c82-4c7b-bdf3-665725108f77",
   "metadata": {},
   "outputs": [],
   "source": [
    "# 아래와 같이 각각의 값들을 2차원 리스트 형태로 저장해 주세요\n",
    "# 변수명 : list_all\n",
    "# [[유심약국, 서울, 서울특별시 중랑구 봉화산로 217 ( 신내동, 오상빌딩내), 02-3422-2755]\n",
    "# [서울동산약국, 서울 , 서울특별시 중랑구 신내로 16길 17 1층(신내동), 3423-0808)]"
   ]
  },
  {
   "cell_type": "code",
   "execution_count": 183,
   "id": "40f9c398-8312-4d77-963a-cd96ad62b1f8",
   "metadata": {
    "tags": []
   },
   "outputs": [
    {
     "data": {
      "text/html": [
       "<div>\n",
       "<style scoped>\n",
       "    .dataframe tbody tr th:only-of-type {\n",
       "        vertical-align: middle;\n",
       "    }\n",
       "\n",
       "    .dataframe tbody tr th {\n",
       "        vertical-align: top;\n",
       "    }\n",
       "\n",
       "    .dataframe thead th {\n",
       "        text-align: right;\n",
       "    }\n",
       "</style>\n",
       "<table border=\"1\" class=\"dataframe\">\n",
       "  <thead>\n",
       "    <tr style=\"text-align: right;\">\n",
       "      <th></th>\n",
       "      <th>주소</th>\n",
       "      <th>약국이름</th>\n",
       "      <th>시도명</th>\n",
       "      <th>전화번호</th>\n",
       "    </tr>\n",
       "  </thead>\n",
       "  <tbody>\n",
       "    <tr>\n",
       "      <th>0</th>\n",
       "      <td>온누리건강약국</td>\n",
       "      <td>서울</td>\n",
       "      <td>서울특별시 중랑구 봉화산로 215 1층 (신내동)</td>\n",
       "      <td>02-3422-3097</td>\n",
       "    </tr>\n",
       "    <tr>\n",
       "      <th>1</th>\n",
       "      <td>송이온누리약국</td>\n",
       "      <td>서울</td>\n",
       "      <td>서울특별시 중랑구 신내로 211 212호 (신내동, 금강리빙스텔)</td>\n",
       "      <td>02-6743-4262</td>\n",
       "    </tr>\n",
       "  </tbody>\n",
       "</table>\n",
       "</div>"
      ],
      "text/plain": [
       "        주소 약국이름                                   시도명          전화번호\n",
       "0  온누리건강약국   서울           서울특별시 중랑구 봉화산로 215 1층 (신내동)  02-3422-3097\n",
       "1  송이온누리약국   서울  서울특별시 중랑구 신내로 211 212호 (신내동, 금강리빙스텔)  02-6743-4262"
      ]
     },
     "execution_count": 183,
     "metadata": {},
     "output_type": "execute_result"
    }
   ],
   "source": [
    "# 꺽쇠를 태그로 인지함\n",
    "re = response.text\n",
    "soup = BeautifulSoup(re, \"html.parser\")\n",
    "addr_list = soup.find_all('addr') # [0]  리스트형태니까 인덱싱가능\n",
    "telno_list = soup.find_all('telno')\n",
    "yadmnm_list = soup.find_all('yadmnm')\n",
    "sidocdnm_list = soup.find_all('sidocdnm')\n",
    "\n",
    "\n",
    "# 태그중에 텍스트만 가져와라\n",
    "addr_list[0].text\n",
    "\n",
    "\n",
    "list_all = []\n",
    "for i in range(len(soup)):\n",
    "    list_all.append([yadmnm_list[i].text,sidocdnm_list[i].text,addr_list[i].text,telno_list[i].text])\n",
    "\n",
    "list_all\n",
    "\n",
    "new_df = pd.DataFrame(list_all, columns = {'약국이름','시도명','주소','전화번호'})\n",
    "new_df"
   ]
  },
  {
   "cell_type": "code",
   "execution_count": null,
   "id": "8a588d06-5cfd-4244-bcde-4206c39fd3ca",
   "metadata": {},
   "outputs": [],
   "source": []
  }
 ],
 "metadata": {
  "kernelspec": {
   "display_name": "Python 3 (ipykernel)",
   "language": "python",
   "name": "python3"
  },
  "language_info": {
   "codemirror_mode": {
    "name": "ipython",
    "version": 3
   },
   "file_extension": ".py",
   "mimetype": "text/x-python",
   "name": "python",
   "nbconvert_exporter": "python",
   "pygments_lexer": "ipython3",
   "version": "3.9.12"
  }
 },
 "nbformat": 4,
 "nbformat_minor": 5
}
