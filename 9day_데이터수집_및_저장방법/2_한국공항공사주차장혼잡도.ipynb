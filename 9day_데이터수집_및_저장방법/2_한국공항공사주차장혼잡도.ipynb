{
 "cells": [
  {
   "cell_type": "code",
   "execution_count": 1,
   "id": "4781e368-760f-4710-b8c2-4347ecf7580f",
   "metadata": {},
   "outputs": [],
   "source": [
    "import pandas as pd"
   ]
  },
  {
   "cell_type": "code",
   "execution_count": 71,
   "id": "d89a806d-851f-418d-9fbf-e5778c9f1be0",
   "metadata": {
    "collapsed": true,
    "jupyter": {
     "outputs_hidden": true
    },
    "tags": []
   },
   "outputs": [
    {
     "name": "stdout",
     "output_type": "stream",
     "text": [
      "<?xml version=\"1.0\" encoding=\"UTF-8\" standalone=\"yes\"?><response><header><resultCode>00</resultCode><resultMsg>NORMAL SERVICE.</resultMsg></header><body><items><item><airportEng>GIMPO INTERNATIONAL AIRPORT</airportEng><airportKor>김포국제공항</airportKor><parkingAirportCodeName>[상세]예약주차장</parkingAirportCodeName><parkingCongestion>원활</parkingCongestion><parkingCongestionDegree>14.16%</parkingCongestionDegree><parkingOccupiedSpace>47</parkingOccupiedSpace><parkingTotalSpace>332</parkingTotalSpace><sysGetdate>2022-06-20</sysGetdate><sysGettime>14:58:03</sysGettime></item><item><airportEng>GIMPO INTERNATIONAL AIRPORT</airportEng><airportKor>김포국제공항</airportKor><parkingAirportCodeName>국내선 제1주차장</parkingAirportCodeName><parkingCongestion>혼잡</parkingCongestion><parkingCongestionDegree>91.05%</parkingCongestionDegree><parkingOccupiedSpace>2075</parkingOccupiedSpace><parkingTotalSpace>2279</parkingTotalSpace><sysGetdate>2022-06-20</sysGetdate><sysGettime>14:58:03</sysGettime></item><item><airportEng>GIMPO INTERNATIONAL AIRPORT</airportEng><airportKor>김포국제공항</airportKor><parkingAirportCodeName>국내선 제2주차장</parkingAirportCodeName><parkingCongestion>혼잡</parkingCongestion><parkingCongestionDegree>90.49%</parkingCongestionDegree><parkingOccupiedSpace>1580</parkingOccupiedSpace><parkingTotalSpace>1746</parkingTotalSpace><sysGetdate>2022-06-20</sysGetdate><sysGettime>14:58:03</sysGettime></item><item><airportEng>GIMPO INTERNATIONAL AIRPORT</airportEng><airportKor>김포국제공항</airportKor><parkingAirportCodeName>국제선 주차빌딩</parkingAirportCodeName><parkingCongestion>원활</parkingCongestion><parkingCongestionDegree>0%</parkingCongestionDegree><parkingOccupiedSpace>0</parkingOccupiedSpace><parkingTotalSpace>567</parkingTotalSpace><sysGetdate>2022-06-20</sysGetdate><sysGettime>14:58:03</sysGettime></item><item><airportEng>GIMPO INTERNATIONAL AIRPORT</airportEng><airportKor>김포국제공항</airportKor><parkingAirportCodeName>국제선 지하주차장</parkingAirportCodeName><parkingCongestion>원활</parkingCongestion><parkingCongestionDegree>19.08%</parkingCongestionDegree><parkingOccupiedSpace>229</parkingOccupiedSpace><parkingTotalSpace>1200</parkingTotalSpace><sysGetdate>2022-06-20</sysGetdate><sysGettime>14:58:03</sysGettime></item><item><airportEng>GIMPO INTERNATIONAL AIRPORT</airportEng><airportKor>김포국제공항</airportKor><parkingAirportCodeName>화물청사 주차장</parkingAirportCodeName><parkingCongestion>원활</parkingCongestion><parkingCongestionDegree>55.06%</parkingCongestionDegree><parkingOccupiedSpace>626</parkingOccupiedSpace><parkingTotalSpace>1137</parkingTotalSpace><sysGetdate>2022-06-20</sysGetdate><sysGettime>14:58:03</sysGettime></item></items><numOfRows>10</numOfRows><pageNo>1</pageNo><totalCount>6</totalCount></body></response>\n"
     ]
    }
   ],
   "source": [
    "apiKey = \"PVdeh44WlF%2BHj6bGzfI2BXUldlea7Ggo%2FjjXvhbHCMNNFotchb2byGTopt4uAFS07RQzqmeU3M2Y8HcMmlYW9w%3D%3D\"\n",
    "pageNo = 1\n",
    "numOfRows = 10\n",
    "schAirportCode = \"GMP\"\n",
    "\n",
    "api = '''http://openapi.airport.co.kr/service/rest/AirportParkingCongestion/airportParkingCongestionRT?schAirportCode={ac}&serviceKey={key}&numOfRows={row}&pageNo={no}'''\n",
    "\n",
    "url = api.format(key = apiKey,\n",
    "                 no = pageNo,\n",
    "                 row = numOfRows,\n",
    "                 ac = schAirportCode)\n",
    "\n",
    "response = requests.get(url)\n",
    "print(response.text)\n"
   ]
  },
  {
   "cell_type": "code",
   "execution_count": 68,
   "id": "61a5f299-0289-45cc-a23d-92ab863ff79c",
   "metadata": {},
   "outputs": [],
   "source": [
    "from bs4 import BeautifulSoup\n",
    "import requests"
   ]
  },
  {
   "cell_type": "code",
   "execution_count": 93,
   "id": "ce20a8df-68c0-4681-a3a5-2480eb2eaba5",
   "metadata": {},
   "outputs": [
    {
     "data": {
      "text/html": [
       "<div>\n",
       "<style scoped>\n",
       "    .dataframe tbody tr th:only-of-type {\n",
       "        vertical-align: middle;\n",
       "    }\n",
       "\n",
       "    .dataframe tbody tr th {\n",
       "        vertical-align: top;\n",
       "    }\n",
       "\n",
       "    .dataframe thead th {\n",
       "        text-align: right;\n",
       "    }\n",
       "</style>\n",
       "<table border=\"1\" class=\"dataframe\">\n",
       "  <thead>\n",
       "    <tr style=\"text-align: right;\">\n",
       "      <th></th>\n",
       "      <th>공항명(영문)</th>\n",
       "      <th>공항명(한글)</th>\n",
       "      <th>주차장명</th>\n",
       "      <th>주차장 혼잡정도</th>\n",
       "      <th>주차장 혼잡률</th>\n",
       "      <th>입고된 차량 수</th>\n",
       "      <th>전체 주차면 수</th>\n",
       "    </tr>\n",
       "  </thead>\n",
       "  <tbody>\n",
       "    <tr>\n",
       "      <th>0</th>\n",
       "      <td>GIMPO INTERNATIONAL AIRPORT</td>\n",
       "      <td>김포국제공항</td>\n",
       "      <td>[상세]예약주차장</td>\n",
       "      <td>원활</td>\n",
       "      <td>14.16%</td>\n",
       "      <td>47</td>\n",
       "      <td>332</td>\n",
       "    </tr>\n",
       "    <tr>\n",
       "      <th>1</th>\n",
       "      <td>GIMPO INTERNATIONAL AIRPORT</td>\n",
       "      <td>김포국제공항</td>\n",
       "      <td>국내선 제1주차장</td>\n",
       "      <td>혼잡</td>\n",
       "      <td>91.05%</td>\n",
       "      <td>2075</td>\n",
       "      <td>2279</td>\n",
       "    </tr>\n",
       "    <tr>\n",
       "      <th>2</th>\n",
       "      <td>GIMPO INTERNATIONAL AIRPORT</td>\n",
       "      <td>김포국제공항</td>\n",
       "      <td>국내선 제2주차장</td>\n",
       "      <td>혼잡</td>\n",
       "      <td>90.49%</td>\n",
       "      <td>1580</td>\n",
       "      <td>1746</td>\n",
       "    </tr>\n",
       "    <tr>\n",
       "      <th>3</th>\n",
       "      <td>GIMPO INTERNATIONAL AIRPORT</td>\n",
       "      <td>김포국제공항</td>\n",
       "      <td>국제선 주차빌딩</td>\n",
       "      <td>원활</td>\n",
       "      <td>0%</td>\n",
       "      <td>0</td>\n",
       "      <td>567</td>\n",
       "    </tr>\n",
       "    <tr>\n",
       "      <th>4</th>\n",
       "      <td>GIMPO INTERNATIONAL AIRPORT</td>\n",
       "      <td>김포국제공항</td>\n",
       "      <td>국제선 지하주차장</td>\n",
       "      <td>원활</td>\n",
       "      <td>19.08%</td>\n",
       "      <td>229</td>\n",
       "      <td>1200</td>\n",
       "    </tr>\n",
       "    <tr>\n",
       "      <th>5</th>\n",
       "      <td>GIMPO INTERNATIONAL AIRPORT</td>\n",
       "      <td>김포국제공항</td>\n",
       "      <td>화물청사 주차장</td>\n",
       "      <td>원활</td>\n",
       "      <td>55.06%</td>\n",
       "      <td>626</td>\n",
       "      <td>1137</td>\n",
       "    </tr>\n",
       "  </tbody>\n",
       "</table>\n",
       "</div>"
      ],
      "text/plain": [
       "                       공항명(영문) 공항명(한글)       주차장명 주차장 혼잡정도 주차장 혼잡률 입고된 차량 수  \\\n",
       "0  GIMPO INTERNATIONAL AIRPORT  김포국제공항  [상세]예약주차장       원활  14.16%       47   \n",
       "1  GIMPO INTERNATIONAL AIRPORT  김포국제공항  국내선 제1주차장       혼잡  91.05%     2075   \n",
       "2  GIMPO INTERNATIONAL AIRPORT  김포국제공항  국내선 제2주차장       혼잡  90.49%     1580   \n",
       "3  GIMPO INTERNATIONAL AIRPORT  김포국제공항   국제선 주차빌딩       원활      0%        0   \n",
       "4  GIMPO INTERNATIONAL AIRPORT  김포국제공항  국제선 지하주차장       원활  19.08%      229   \n",
       "5  GIMPO INTERNATIONAL AIRPORT  김포국제공항   화물청사 주차장       원활  55.06%      626   \n",
       "\n",
       "  전체 주차면 수  \n",
       "0      332  \n",
       "1     2279  \n",
       "2     1746  \n",
       "3      567  \n",
       "4     1200  \n",
       "5     1137  "
      ]
     },
     "execution_count": 93,
     "metadata": {},
     "output_type": "execute_result"
    }
   ],
   "source": [
    "# 꺽쇠를 태그로 인지함\n",
    "re = response.text\n",
    "soup = BeautifulSoup(re, \"html.parser\")\n",
    "\n",
    "airportEng_list = soup.find_all('airporteng')\n",
    "airportKor_list = soup.find_all('airportkor')\n",
    "parkcd_list = soup.find_all('parkingairportcodename')\n",
    "parkcongest_list = soup.find_all('parkingcongestion')\n",
    "parkcond_list = soup.find_all('parkingcongestiondegree')\n",
    "parkocu_list = soup.find_all('parkingoccupiedspace')\n",
    "parktotal_list = soup.find_all('parkingtotalspace')\n",
    "\n",
    "airportEng_list_txt = []\n",
    "airportKor_list_txt = []\n",
    "parkcd_list_txt = []\n",
    "parkcongest_list_txt = []\n",
    "parkcond_list_txt= []\n",
    "parkocu_list_txt = [] \n",
    "parktotal_list_txt = []\n",
    "\n",
    "for i in range(len(airportEng_list)):\n",
    "    airportEng_list_txt.append(airportEng_list[i].text)\n",
    "    airportKor_list_txt.append(airportKor_list[i].text)\n",
    "    parkcd_list_txt.append(parkcd_list[i].text)\n",
    "    parkcongest_list_txt.append(parkcongest_list[i].text)\n",
    "    parkcond_list_txt.append(parkcond_list[i].text)\n",
    "    parkocu_list_txt.append(parkocu_list[i].text)\n",
    "    parktotal_list_txt.append(parktotal_list[i].text)\n",
    "    \n",
    "new_df = pd.DataFrame({'공항명(영문)' : airportEng_list_txt , '공항명(한글)' : airportKor_list_txt,\n",
    "                       '주차장명' : parkcd_list_txt, '주차장 혼잡정도' : parkcongest_list_txt,\n",
    "                       '주차장 혼잡률' : parkcond_list_txt, '입고된 차량 수' : parkocu_list_txt,\n",
    "                       '전체 주차면 수' : parktotal_list_txt})\n",
    "new_df"
   ]
  },
  {
   "cell_type": "code",
   "execution_count": 94,
   "id": "39ee7248-a76c-42b2-ae13-ae28da06d988",
   "metadata": {
    "collapsed": true,
    "jupyter": {
     "outputs_hidden": true
    },
    "tags": []
   },
   "outputs": [
    {
     "data": {
      "text/plain": [
       "[<parkingcongestiondegree>14.16%</parkingcongestiondegree>,\n",
       " <parkingcongestiondegree>91.05%</parkingcongestiondegree>,\n",
       " <parkingcongestiondegree>90.49%</parkingcongestiondegree>,\n",
       " <parkingcongestiondegree>0%</parkingcongestiondegree>,\n",
       " <parkingcongestiondegree>19.08%</parkingcongestiondegree>,\n",
       " <parkingcongestiondegree>55.06%</parkingcongestiondegree>]"
      ]
     },
     "execution_count": 94,
     "metadata": {},
     "output_type": "execute_result"
    }
   ],
   "source": [
    "parkcond_list"
   ]
  }
 ],
 "metadata": {
  "kernelspec": {
   "display_name": "Python 3 (ipykernel)",
   "language": "python",
   "name": "python3"
  },
  "language_info": {
   "codemirror_mode": {
    "name": "ipython",
    "version": 3
   },
   "file_extension": ".py",
   "mimetype": "text/x-python",
   "name": "python",
   "nbconvert_exporter": "python",
   "pygments_lexer": "ipython3",
   "version": "3.9.12"
  }
 },
 "nbformat": 4,
 "nbformat_minor": 5
}
